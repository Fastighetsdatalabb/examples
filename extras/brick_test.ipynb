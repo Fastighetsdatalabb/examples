{
  "nbformat": 4,
  "nbformat_minor": 0,
  "metadata": {
    "colab": {
      "name": "brick-test.ipynb",
      "provenance": [],
      "collapsed_sections": []
    },
    "kernelspec": {
      "name": "python3",
      "display_name": "Python 3"
    }
  },
  "cells": [
    {
      "cell_type": "code",
      "metadata": {
        "colab": {
          "base_uri": "https://localhost:8080/"
        },
        "id": "zzM8ZF1QmvBP",
        "outputId": "4cdf237b-b8d4-4a88-cb16-f406ca2ac3b3"
      },
      "source": [
        "!pip install rdflib"
      ],
      "execution_count": null,
      "outputs": [
        {
          "output_type": "stream",
          "text": [
            "Collecting rdflib\n",
            "\u001b[?25l  Downloading https://files.pythonhosted.org/packages/d0/6b/6454aa1db753c0f8bc265a5bd5c10b5721a4bb24160fb4faf758cf6be8a1/rdflib-5.0.0-py3-none-any.whl (231kB)\n",
            "\u001b[K     |████████████████████████████████| 235kB 5.8MB/s \n",
            "\u001b[?25hRequirement already satisfied: pyparsing in /usr/local/lib/python3.6/dist-packages (from rdflib) (2.4.7)\n",
            "Requirement already satisfied: six in /usr/local/lib/python3.6/dist-packages (from rdflib) (1.15.0)\n",
            "Collecting isodate\n",
            "\u001b[?25l  Downloading https://files.pythonhosted.org/packages/9b/9f/b36f7774ff5ea8e428fdcfc4bb332c39ee5b9362ddd3d40d9516a55221b2/isodate-0.6.0-py2.py3-none-any.whl (45kB)\n",
            "\u001b[K     |████████████████████████████████| 51kB 6.6MB/s \n",
            "\u001b[?25hInstalling collected packages: isodate, rdflib\n",
            "Successfully installed isodate-0.6.0 rdflib-5.0.0\n"
          ],
          "name": "stdout"
        }
      ]
    },
    {
      "cell_type": "code",
      "metadata": {
        "id": "kAdTVA3imnEn"
      },
      "source": [
        "from rdflib import Graph, Namespace, URIRef, Literal\n",
        "import rdflib\n",
        "\n",
        "# define the namespaces. Now we can refer to entities \n",
        "# in the namespacing using these handles.\n",
        "# For example, the VAV class in the Brick namespace \n",
        "# could be referenced as BRICK.VAV or BRICK[\"VAV\"]\n",
        "BRICK = Namespace(\"http://brickschema.org/ttl/Brick#\")\n",
        "BF = Namespace(\"http://brickschema.org/ttl/BrickFrame#\")\n",
        "RDF = Namespace(\"http://www.w3.org/1999/02/22-rdf-syntax-ns#\")\n",
        "RDFS = Namespace(\"http://www.w3.org/2000/01/rdf-schema#\")\n",
        "MYBUILDING = Namespace(\"http://mysite.com/buildings/mybuilding#\")\n",
        "\n",
        "# create the graph and bind the namespace prefixes to it\n",
        "g = Graph()\n",
        "g.bind('rdf', RDF)\n",
        "g.bind('rdfs', RDFS)\n",
        "g.bind('brick', BRICK)\n",
        "g.bind('bf', BF)\n",
        "g.bind('mybuilding', MYBUILDING)\n",
        "\n",
        "# add() inserts another triple into the graph as (subject, predicate, object)\n",
        "g.add((MYBUILDING.floor_1, RDF.type, BRICK.Floor))\n",
        "g.add((MYBUILDING.room_1, RDF.type, BRICK.Room))\n",
        "g.add((MYBUILDING.room_2, RDF.type, BRICK.Room))\n",
        "g.add((MYBUILDING.vav_1, RDF.type, BRICK.VAV))\n",
        "g.add((MYBUILDING.hvaczone_1, RDF.type, BRICK.HVAC_Zone))\n",
        "g.add((MYBUILDING.ahu_1, RDF.type, BRICK.AHU))\n",
        "g.add((MYBUILDING.ztemp_1, RDF.type, BRICK.Zone_Temperature_Sensor))\n",
        "\n",
        "EX = MYBUILDING\n",
        "\n",
        "# add the relationships constituting the other edges in the graph\n",
        "g.add((EX.ztemp_1, BF.isPointOf, EX.vav_1))\n",
        "g.add((EX.ahu_1, BF.feeds, EX.vav_1))\n",
        "g.add((EX.vav_1, BF.feeds, EX.hvaczone_1))\n",
        "g.add((EX.room_1, BF.isPartOf, EX.hvaczone_1))\n",
        "g.add((EX.room_1, BF.isPartOf, EX.floor_1))\n",
        "g.add((EX.room_2, BF.isPartOf, EX.floor_1))\n",
        "\n",
        "# save the output to \"mybuilding.ttl\"\n",
        "g.serialize(destination='mybuilding.ttl',format='turtle')"
      ],
      "execution_count": 24,
      "outputs": []
    },
    {
      "cell_type": "code",
      "metadata": {
        "id": "OOOa90yrmtxr",
        "colab": {
          "base_uri": "https://localhost:8080/"
        },
        "outputId": "653a3dd1-b7ee-498d-97ac-cb5d8d59dbc0"
      },
      "source": [
        "f = open(\"mybuilding.ttl\", \"r\")\n",
        "print(f.read())"
      ],
      "execution_count": 25,
      "outputs": [
        {
          "output_type": "stream",
          "text": [
            "@prefix bf: <http://brickschema.org/ttl/BrickFrame#> .\n",
            "@prefix brick: <http://brickschema.org/ttl/Brick#> .\n",
            "@prefix mybuilding: <http://mysite.com/buildings/mybuilding#> .\n",
            "\n",
            "mybuilding:ahu_1 a brick:AHU ;\n",
            "    bf:feeds mybuilding:vav_1 .\n",
            "\n",
            "mybuilding:room_1 a brick:Room ;\n",
            "    bf:isPartOf mybuilding:floor_1,\n",
            "        mybuilding:hvaczone_1 .\n",
            "\n",
            "mybuilding:room_2 a brick:Room ;\n",
            "    bf:isPartOf mybuilding:floor_1 .\n",
            "\n",
            "mybuilding:ztemp_1 a brick:Zone_Temperature_Sensor ;\n",
            "    bf:isPointOf mybuilding:vav_1 .\n",
            "\n",
            "mybuilding:floor_1 a brick:Floor .\n",
            "\n",
            "mybuilding:hvaczone_1 a brick:HVAC_Zone .\n",
            "\n",
            "mybuilding:vav_1 a brick:VAV ;\n",
            "    bf:feeds mybuilding:hvaczone_1 .\n",
            "\n",
            "\n"
          ],
          "name": "stdout"
        }
      ]
    },
    {
      "cell_type": "code",
      "metadata": {
        "colab": {
          "base_uri": "https://localhost:8080/"
        },
        "id": "pnSaiZOLoeMb",
        "outputId": "7ece1616-361b-4639-d157-5db881f746f7"
      },
      "source": [
        "# Find the floor with SPARQL\n",
        "qres = g.query(\"SELECT ?s WHERE {?s a brick:Floor}\")\n",
        "for row in qres:\n",
        "    print(\"%s\" % row)"
      ],
      "execution_count": 26,
      "outputs": [
        {
          "output_type": "stream",
          "text": [
            "http://mysite.com/buildings/mybuilding#floor_1\n"
          ],
          "name": "stdout"
        }
      ]
    },
    {
      "cell_type": "code",
      "metadata": {
        "colab": {
          "base_uri": "https://localhost:8080/"
        },
        "id": "h5uX4ghboeFv",
        "outputId": "0eb7eca0-e055-4983-ed57-21ee8bdadda5"
      },
      "source": [
        "# Find all rooms that are part of floor 1 with SPARQL\n",
        "qres = g.query(\"SELECT ?s WHERE {?s bf:isPartOf mybuilding:floor_1}\")\n",
        "for row in qres:\n",
        "    print(\"%s\" % row)"
      ],
      "execution_count": 27,
      "outputs": [
        {
          "output_type": "stream",
          "text": [
            "http://mysite.com/buildings/mybuilding#room_1\n",
            "http://mysite.com/buildings/mybuilding#room_2\n"
          ],
          "name": "stdout"
        }
      ]
    }
  ]
}