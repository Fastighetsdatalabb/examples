{
  "nbformat": 4,
  "nbformat_minor": 0,
  "metadata": {
    "colab": {
      "name": "OwlReady2-test.ipynb",
      "provenance": [],
      "collapsed_sections": []
    },
    "kernelspec": {
      "name": "python3",
      "display_name": "Python 3"
    }
  },
  "cells": [
    {
      "cell_type": "markdown",
      "metadata": {
        "id": "xxADc2ez93j2"
      },
      "source": [
        "# Example of how to use OwlReady2 - from the docs + some minor modifications"
      ]
    },
    {
      "cell_type": "code",
      "metadata": {
        "colab": {
          "base_uri": "https://localhost:8080/"
        },
        "id": "03j0jWKRxxzg",
        "outputId": "9cfcfbed-c9aa-4fe9-fac0-f840eb4ec8ff"
      },
      "source": [
        "!pip install owlready2\n",
        "!pip install rdflib"
      ],
      "execution_count": 1,
      "outputs": [
        {
          "output_type": "stream",
          "text": [
            "Requirement already satisfied: owlready2 in /usr/local/lib/python3.6/dist-packages (0.25)\n",
            "Requirement already satisfied: rdflib in /usr/local/lib/python3.6/dist-packages (5.0.0)\n",
            "Requirement already satisfied: isodate in /usr/local/lib/python3.6/dist-packages (from rdflib) (0.6.0)\n",
            "Requirement already satisfied: pyparsing in /usr/local/lib/python3.6/dist-packages (from rdflib) (2.4.7)\n",
            "Requirement already satisfied: six in /usr/local/lib/python3.6/dist-packages (from rdflib) (1.15.0)\n"
          ],
          "name": "stdout"
        }
      ]
    },
    {
      "cell_type": "code",
      "metadata": {
        "colab": {
          "base_uri": "https://localhost:8080/"
        },
        "id": "-On-6rS2xpj0",
        "outputId": "30a6a7cd-c608-4b87-d792-54787a483315"
      },
      "source": [
        "from owlready2 import *\n",
        "onto_path.append(\"/path/to/your/local/ontology/repository\")\n",
        "onto = get_ontology(\"http://www.lesfleursdunormal.fr/static/_downloads/pizza_onto.owl\")\n",
        "onto.load()"
      ],
      "execution_count": 2,
      "outputs": [
        {
          "output_type": "execute_result",
          "data": {
            "text/plain": [
              "get_ontology(\"http://www.lesfleursdunormal.fr/static/_downloads/pizza_onto.owl#\")"
            ]
          },
          "metadata": {
            "tags": []
          },
          "execution_count": 2
        }
      ]
    },
    {
      "cell_type": "code",
      "metadata": {
        "id": "tWuSRU8jxwuz"
      },
      "source": [
        "class NonVegetarianPizza(onto.Pizza):\n",
        "  equivalent_to = [\n",
        "                  onto.Pizza\n",
        "                  & ( onto.has_topping.some(onto.MeatTopping)\n",
        "                    | onto.has_topping.some(onto.FishTopping)\n",
        "                    )\n",
        "                  ]\n",
        "\n",
        "  def eat(self): \n",
        "    print(\"Beurk! I'm vegetarian!\")\n",
        "\n"
      ],
      "execution_count": 3,
      "outputs": []
    },
    {
      "cell_type": "code",
      "metadata": {
        "colab": {
          "base_uri": "https://localhost:8080/"
        },
        "id": "6uToXDdayaoq",
        "outputId": "cc601e28-dff4-456f-c0e9-c9f1f3c1aa12"
      },
      "source": [
        "onto.Pizza\n",
        "print(onto.Pizza)\n",
        "\n",
        "test_pizza = onto.Pizza(\"test_pizza_owl_identifier\")\n",
        "test_pizza.has_topping = [ onto.CheeseTopping(),\n",
        "                           onto.TomatoTopping() ]\n",
        "\n",
        "print(test_pizza)\n",
        "\n",
        "test_pizza.has_topping.append(onto.MeatTopping())\n"
      ],
      "execution_count": 4,
      "outputs": [
        {
          "output_type": "stream",
          "text": [
            "pizza_onto.Pizza\n",
            "pizza_onto.test_pizza_owl_identifier\n"
          ],
          "name": "stdout"
        }
      ]
    },
    {
      "cell_type": "code",
      "metadata": {
        "colab": {
          "base_uri": "https://localhost:8080/"
        },
        "id": "VNtNpPQvy3Jm",
        "outputId": "c6d46d7c-4c79-4b26-fe21-c614cf7f86e5"
      },
      "source": [
        "print(test_pizza.__class__)\n",
        "\n",
        "# Execute HermiT and reparent instances and classes\n",
        "sync_reasoner()\n",
        "\n",
        "print(test_pizza.__class__)\n",
        "\n",
        "test_pizza.eat()"
      ],
      "execution_count": 9,
      "outputs": [
        {
          "output_type": "stream",
          "text": [
            "pizza_onto.NonVegetarianPizza\n"
          ],
          "name": "stdout"
        },
        {
          "output_type": "stream",
          "text": [
            "* Owlready2 * Running HermiT...\n",
            "    java -Xmx2000M -cp /usr/local/lib/python3.6/dist-packages/owlready2/hermit:/usr/local/lib/python3.6/dist-packages/owlready2/hermit/HermiT.jar org.semanticweb.HermiT.cli.CommandLine -c -O -D -I file:////tmp/tmpfv8tpd11\n"
          ],
          "name": "stderr"
        },
        {
          "output_type": "stream",
          "text": [
            "pizza_onto.NonVegetarianPizza\n",
            "Beurk! I'm vegetarian!\n"
          ],
          "name": "stdout"
        },
        {
          "output_type": "stream",
          "text": [
            "* Owlready2 * HermiT took 0.855701208114624 seconds\n",
            "* Owlready * (NB: only changes on entities loaded in Python are shown, other changes are done but not listed)\n"
          ],
          "name": "stderr"
        }
      ]
    },
    {
      "cell_type": "code",
      "metadata": {
        "colab": {
          "base_uri": "https://localhost:8080/"
        },
        "id": "wkSP0-5V6Lse",
        "outputId": "5b2d27ed-369e-4ef6-9635-1cb80f6c764d"
      },
      "source": [
        "import rdflib\n",
        "graph = default_world.as_rdflib_graph()\n",
        "\n",
        "PIZZA = rdflib.Namespace(\"http://www.lesfleursdunormal.fr/static/_downloads/pizza_onto.owl#\")\n",
        "graph.bind('pizza', PIZZA)\n",
        "\n",
        "# save the output to \"pizza.ttl\"\n",
        "graph.serialize(destination='pizza.ttl',format='turtle')\n",
        "f = open(\"pizza.ttl\", \"r\")\n",
        "print(f.read())"
      ],
      "execution_count": 6,
      "outputs": [
        {
          "output_type": "stream",
          "text": [
            "@prefix ns1: <http://www.w3.org/2002/07/owl#> .\n",
            "@prefix pizza: <http://www.lesfleursdunormal.fr/static/_downloads/pizza_onto.owl#> .\n",
            "@prefix rdf: <http://www.w3.org/1999/02/22-rdf-syntax-ns#> .\n",
            "@prefix rdfs: <http://www.w3.org/2000/01/rdf-schema#> .\n",
            "\n",
            "<http://inferrences> a ns1:Ontology .\n",
            "\n",
            "<http://www.lesfleursdunormal.fr/static/_downloads/pizza_onto.owl> a ns1:Ontology .\n",
            "\n",
            "pizza:test_pizza_owl_identifier a pizza:NonVegetarianPizza,\n",
            "        pizza:Pizza,\n",
            "        ns1:NamedIndividual ;\n",
            "    pizza:has_topping pizza:cheesetopping1,\n",
            "        pizza:meattopping1,\n",
            "        pizza:tomatotopping1 .\n",
            "\n",
            "pizza:NonVegetarianPizza a ns1:Class ;\n",
            "    rdfs:subClassOf pizza:Pizza ;\n",
            "    ns1:equivalentClass [ a ns1:Class ;\n",
            "            ns1:intersectionOf ( pizza:Pizza [ a ns1:Class ;\n",
            "                        ns1:unionOf ( [ a ns1:Restriction ;\n",
            "                                    ns1:onProperty pizza:has_topping ;\n",
            "                                    ns1:someValuesFrom pizza:MeatTopping ] [ a ns1:Restriction ;\n",
            "                                    ns1:onProperty pizza:has_topping ;\n",
            "                                    ns1:someValuesFrom pizza:FishTopping ] ) ] ) ] .\n",
            "\n",
            "pizza:cheesetopping1 a pizza:CheeseTopping,\n",
            "        ns1:NamedIndividual .\n",
            "\n",
            "pizza:meattopping1 a pizza:MeatTopping,\n",
            "        ns1:NamedIndividual .\n",
            "\n",
            "pizza:tomatotopping1 a pizza:TomatoTopping,\n",
            "        ns1:NamedIndividual .\n",
            "\n",
            "pizza:CheeseTopping a ns1:Class ;\n",
            "    rdfs:subClassOf pizza:Topping .\n",
            "\n",
            "pizza:FishTopping a ns1:Class ;\n",
            "    rdfs:subClassOf pizza:Topping .\n",
            "\n",
            "pizza:TomatoTopping a ns1:Class ;\n",
            "    rdfs:subClassOf pizza:Topping .\n",
            "\n",
            "pizza:has_topping a ns1:ObjectProperty ;\n",
            "    rdfs:domain pizza:Pizza ;\n",
            "    rdfs:range pizza:Topping .\n",
            "\n",
            "pizza:MeatTopping a ns1:Class ;\n",
            "    rdfs:subClassOf pizza:Topping .\n",
            "\n",
            "pizza:Pizza a ns1:Class ;\n",
            "    ns1:disjointWith pizza:Topping .\n",
            "\n",
            "pizza:Topping a ns1:Class .\n",
            "\n",
            "[] a ns1:AllDisjointClasses ;\n",
            "    ns1:members ( pizza:CheeseTopping pizza:FishTopping pizza:MeatTopping pizza:TomatoTopping ) .\n",
            "\n",
            "\n"
          ],
          "name": "stdout"
        }
      ]
    },
    {
      "cell_type": "code",
      "metadata": {
        "colab": {
          "base_uri": "https://localhost:8080/"
        },
        "id": "jByXuiAF8GRD",
        "outputId": "ac7061c8-42bd-4cd1-9b72-808b27b28714"
      },
      "source": [
        "list(graph.namespaces())\n"
      ],
      "execution_count": 7,
      "outputs": [
        {
          "output_type": "execute_result",
          "data": {
            "text/plain": [
              "[('xml', rdflib.term.URIRef('http://www.w3.org/XML/1998/namespace')),\n",
              " ('rdf', rdflib.term.URIRef('http://www.w3.org/1999/02/22-rdf-syntax-ns#')),\n",
              " ('rdfs', rdflib.term.URIRef('http://www.w3.org/2000/01/rdf-schema#')),\n",
              " ('xsd', rdflib.term.URIRef('http://www.w3.org/2001/XMLSchema#')),\n",
              " ('pizza',\n",
              "  rdflib.term.URIRef('http://www.lesfleursdunormal.fr/static/_downloads/pizza_onto.owl#')),\n",
              " ('ns1', rdflib.term.URIRef('http://www.w3.org/2002/07/owl#'))]"
            ]
          },
          "metadata": {
            "tags": []
          },
          "execution_count": 7
        }
      ]
    },
    {
      "cell_type": "code",
      "metadata": {
        "colab": {
          "base_uri": "https://localhost:8080/"
        },
        "id": "iOmovbhp2sbc",
        "outputId": "bed51cf1-cfe9-42df-f1e6-73ff42946311"
      },
      "source": [
        "\n",
        "r = list(graph.query('SELECT ?p WHERE { ?p a pizza:Pizza}'))\n",
        "print(r)"
      ],
      "execution_count": 8,
      "outputs": [
        {
          "output_type": "stream",
          "text": [
            "[(rdflib.term.URIRef('http://www.lesfleursdunormal.fr/static/_downloads/pizza_onto.owl#test_pizza_owl_identifier'),)]\n"
          ],
          "name": "stdout"
        }
      ]
    }
  ]
}