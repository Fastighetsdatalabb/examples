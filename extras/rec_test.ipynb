{
  "nbformat": 4,
  "nbformat_minor": 0,
  "metadata": {
    "colab": {
      "name": "rec-test.ipynb",
      "provenance": [],
      "collapsed_sections": []
    },
    "kernelspec": {
      "name": "python3",
      "display_name": "Python 3"
    }
  },
  "cells": [
    {
      "cell_type": "code",
      "metadata": {
        "colab": {
          "base_uri": "https://localhost:8080/"
        },
        "id": "zzM8ZF1QmvBP",
        "outputId": "ee21bdd8-ac67-42d7-e32b-60341c5d3b08"
      },
      "source": [
        "!pip install rdflib"
      ],
      "execution_count": 2,
      "outputs": [
        {
          "output_type": "stream",
          "text": [
            "Collecting rdflib\n",
            "\u001b[?25l  Downloading https://files.pythonhosted.org/packages/d0/6b/6454aa1db753c0f8bc265a5bd5c10b5721a4bb24160fb4faf758cf6be8a1/rdflib-5.0.0-py3-none-any.whl (231kB)\n",
            "\r\u001b[K     |█▍                              | 10kB 16.7MB/s eta 0:00:01\r\u001b[K     |██▉                             | 20kB 22.9MB/s eta 0:00:01\r\u001b[K     |████▎                           | 30kB 24.3MB/s eta 0:00:01\r\u001b[K     |█████▊                          | 40kB 18.2MB/s eta 0:00:01\r\u001b[K     |███████                         | 51kB 16.1MB/s eta 0:00:01\r\u001b[K     |████████▌                       | 61kB 15.9MB/s eta 0:00:01\r\u001b[K     |██████████                      | 71kB 13.0MB/s eta 0:00:01\r\u001b[K     |███████████▍                    | 81kB 14.2MB/s eta 0:00:01\r\u001b[K     |████████████▊                   | 92kB 14.3MB/s eta 0:00:01\r\u001b[K     |██████████████▏                 | 102kB 12.4MB/s eta 0:00:01\r\u001b[K     |███████████████▋                | 112kB 12.4MB/s eta 0:00:01\r\u001b[K     |█████████████████               | 122kB 12.4MB/s eta 0:00:01\r\u001b[K     |██████████████████▍             | 133kB 12.4MB/s eta 0:00:01\r\u001b[K     |███████████████████▉            | 143kB 12.4MB/s eta 0:00:01\r\u001b[K     |█████████████████████▎          | 153kB 12.4MB/s eta 0:00:01\r\u001b[K     |██████████████████████▊         | 163kB 12.4MB/s eta 0:00:01\r\u001b[K     |████████████████████████        | 174kB 12.4MB/s eta 0:00:01\r\u001b[K     |█████████████████████████▌      | 184kB 12.4MB/s eta 0:00:01\r\u001b[K     |███████████████████████████     | 194kB 12.4MB/s eta 0:00:01\r\u001b[K     |████████████████████████████▍   | 204kB 12.4MB/s eta 0:00:01\r\u001b[K     |█████████████████████████████▉  | 215kB 12.4MB/s eta 0:00:01\r\u001b[K     |███████████████████████████████▏| 225kB 12.4MB/s eta 0:00:01\r\u001b[K     |████████████████████████████████| 235kB 12.4MB/s \n",
            "\u001b[?25hRequirement already satisfied: pyparsing in /usr/local/lib/python3.6/dist-packages (from rdflib) (2.4.7)\n",
            "Collecting isodate\n",
            "\u001b[?25l  Downloading https://files.pythonhosted.org/packages/9b/9f/b36f7774ff5ea8e428fdcfc4bb332c39ee5b9362ddd3d40d9516a55221b2/isodate-0.6.0-py2.py3-none-any.whl (45kB)\n",
            "\u001b[K     |████████████████████████████████| 51kB 6.8MB/s \n",
            "\u001b[?25hRequirement already satisfied: six in /usr/local/lib/python3.6/dist-packages (from rdflib) (1.15.0)\n",
            "Installing collected packages: isodate, rdflib\n",
            "Successfully installed isodate-0.6.0 rdflib-5.0.0\n"
          ],
          "name": "stdout"
        }
      ]
    },
    {
      "cell_type": "code",
      "metadata": {
        "id": "kAdTVA3imnEn"
      },
      "source": [
        "from rdflib import Graph, Namespace, URIRef, Literal\n",
        "import rdflib\n",
        "\n",
        "# define the namespaces. Now we can refer to entities \n",
        "# in the namespacing using these handles.\n",
        "BUILDING = Namespace(\"https://w3id.org/rec/building/#\")\n",
        "CORE = Namespace(\"https://w3id.org/rec/core/#\")\n",
        "DEVICE = Namespace(\"https://w3id.org/rec/device/#\")\n",
        "RDF = Namespace(\"http://www.w3.org/1999/02/22-rdf-syntax-ns#\")\n",
        "RDFS = Namespace(\"http://www.w3.org/2000/01/rdf-schema#\")\n",
        "MYBUILDING = Namespace(\"http://mysite.com/buildings/mybuilding#\")\n",
        "\n",
        "# create the graph and bind the namespace prefixes to it\n",
        "g = Graph()\n",
        "g.bind('rdf', RDF)\n",
        "g.bind('rdfs', RDFS)\n",
        "g.bind('building', BUILDING)\n",
        "g.bind('core', CORE)\n",
        "g.bind('device', DEVICE)\n",
        "g.bind('mybuilding', MYBUILDING)\n",
        "\n",
        "# add() inserts another triple into the graph as (subject, predicate, object)\n",
        "g.add((MYBUILDING.floor_1, RDF.type, BUILDING.Floor))\n",
        "g.add((MYBUILDING.room_1, RDF.type, BUILDING.Laboratory))\n",
        "g.add((MYBUILDING.room_2, RDF.type, BUILDING.CookingRoom))\n",
        "# These would be inferred via a reasoner\n",
        "g.add((MYBUILDING.room_1, RDF.type, CORE.Room))\n",
        "g.add((MYBUILDING.room_2, RDF.type, CORE.Room))\n",
        "g.add((MYBUILDING.temp_sensor1, RDF.type, DEVICE.Sensor))\n",
        "g.add((MYBUILDING.temp_sensor1, CORE.hasLittera, Literal('LB04_QT_01')))\n",
        "g.add((MYBUILDING.device1, RDF.type, DEVICE.Device))\n",
        "\n",
        "EX = MYBUILDING\n",
        "\n",
        "# add the relationships constituting the other edges in the graph\n",
        "g.add((EX.room_1, CORE.hasSuperBuildingComponent, EX.floor_1))\n",
        "g.add((EX.room_2, CORE.hasSuperBuildingComponent, EX.floor_1))\n",
        "g.add((EX.device1, CORE.isMountedIn, EX.room_2))\n",
        "g.add((EX.temp_sensor1, DEVICE.hasSuperDevice, EX.device1))\n",
        "\n",
        "\n",
        "# save the output to \"mybuilding.ttl\"\n",
        "g.serialize(destination='mybuilding.ttl',format='turtle')"
      ],
      "execution_count": 48,
      "outputs": []
    },
    {
      "cell_type": "code",
      "metadata": {
        "id": "OOOa90yrmtxr",
        "colab": {
          "base_uri": "https://localhost:8080/"
        },
        "outputId": "c2cd9ec3-2698-43f5-cb08-f3f0c2636c14"
      },
      "source": [
        "f = open(\"mybuilding.ttl\", \"r\")\n",
        "print(f.read())"
      ],
      "execution_count": 49,
      "outputs": [
        {
          "output_type": "stream",
          "text": [
            "@prefix building: <https://w3id.org/rec/building/#> .\n",
            "@prefix core: <https://w3id.org/rec/core/#> .\n",
            "@prefix device: <https://w3id.org/rec/device/#> .\n",
            "@prefix mybuilding: <http://mysite.com/buildings/mybuilding#> .\n",
            "\n",
            "mybuilding:room_1 a building:Laboratory,\n",
            "        core:Room ;\n",
            "    core:hasSuperBuildingComponent mybuilding:floor_1 .\n",
            "\n",
            "mybuilding:temp_sensor1 a device:Sensor ;\n",
            "    core:hasLittera \"LB04_QT_01\" ;\n",
            "    device:hasSuperDevice mybuilding:device1 .\n",
            "\n",
            "mybuilding:device1 a device:Device ;\n",
            "    core:isMountedIn mybuilding:room_2 .\n",
            "\n",
            "mybuilding:room_2 a building:CookingRoom,\n",
            "        core:Room ;\n",
            "    core:hasSuperBuildingComponent mybuilding:floor_1 .\n",
            "\n",
            "mybuilding:floor_1 a building:Floor .\n",
            "\n",
            "\n"
          ],
          "name": "stdout"
        }
      ]
    },
    {
      "cell_type": "code",
      "metadata": {
        "colab": {
          "base_uri": "https://localhost:8080/"
        },
        "id": "pnSaiZOLoeMb",
        "outputId": "f4ebc438-7f7f-42e6-ccbf-a32d4c82e490"
      },
      "source": [
        "# Find the floor with SPARQL\n",
        "qres = g.query(\"SELECT ?s WHERE {?s a building:Floor}\")\n",
        "for row in qres:\n",
        "    print(\"%s\" % row)"
      ],
      "execution_count": 38,
      "outputs": [
        {
          "output_type": "stream",
          "text": [
            "http://mysite.com/buildings/mybuilding#floor_1\n"
          ],
          "name": "stdout"
        }
      ]
    },
    {
      "cell_type": "code",
      "metadata": {
        "colab": {
          "base_uri": "https://localhost:8080/"
        },
        "id": "h5uX4ghboeFv",
        "outputId": "c25de799-b789-4ed3-a5bc-a11271012df5"
      },
      "source": [
        "# Find all rooms that are part of floor 1 with SPARQL\n",
        "qres = g.query(\"SELECT ?s WHERE {?s core:hasSuperBuildingComponent mybuilding:floor_1}\")\n",
        "for row in qres:\n",
        "    print(\"%s\" % row)"
      ],
      "execution_count": 39,
      "outputs": [
        {
          "output_type": "stream",
          "text": [
            "http://mysite.com/buildings/mybuilding#room_2\n",
            "http://mysite.com/buildings/mybuilding#room_1\n"
          ],
          "name": "stdout"
        }
      ]
    },
    {
      "cell_type": "code",
      "metadata": {
        "colab": {
          "base_uri": "https://localhost:8080/"
        },
        "id": "N6wu1S3CCOp8",
        "outputId": "adc51812-f4ec-4a30-e872-931fba9a88e6"
      },
      "source": [
        "# List all devices and their locations:\n",
        "qres = g.query(\"SELECT ?s ?r WHERE {?s core:isMountedIn ?r}\")\n",
        "for row in qres:\n",
        "    print(\"Device: %s  in Room: %s\" % row)\n"
      ],
      "execution_count": 47,
      "outputs": [
        {
          "output_type": "stream",
          "text": [
            "Device: http://mysite.com/buildings/mybuilding#device1  in Room: http://mysite.com/buildings/mybuilding#room_2\n"
          ],
          "name": "stdout"
        }
      ]
    },
    {
      "cell_type": "code",
      "metadata": {
        "id": "noWFfIMqFGJN"
      },
      "source": [
        ""
      ],
      "execution_count": null,
      "outputs": []
    }
  ]
}