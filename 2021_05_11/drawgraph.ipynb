{
 "cells": [
  {
   "cell_type": "code",
   "execution_count": null,
   "metadata": {},
   "outputs": [],
   "source": [
    "import proptech\n",
    "import config as cfg"
   ]
  },
  {
   "cell_type": "code",
   "execution_count": null,
   "metadata": {},
   "outputs": [],
   "source": [
    "# Remember to enter some data into the config file\n",
    "\n",
    "appid = cfg.config['appid']\n",
    "secret = cfg.config['secret']\n",
    "owner = cfg.config['owner']\n",
    "\n",
    "connection = proptech.ProptechConnection(appid, secret, owner)\n"
   ]
  },
  {
   "cell_type": "code",
   "execution_count": null,
   "metadata": {},
   "outputs": [],
   "source": [
    "# Try using some Panda Dataframes!\n",
    "import pandas as pd\n",
    "from IPython.display import display, HTML\n",
    "\n",
    "plt.rcParams[\"figure.figsize\"] = (10, 8) # (w, h)\n",
    "\n",
    "# Fetch all the quantity kinds used by ProptechOS and display them as an HTML table\n",
    "kinds = connection.fetch('quantitykind')\n",
    "df = pd.DataFrame(kinds)\n",
    "\n",
    "#display(HTML(df.to_html()))\n",
    "df.head()"
   ]
  },
  {
   "cell_type": "code",
   "execution_count": null,
   "metadata": {},
   "outputs": [],
   "source": [
    "# Find some sensors - also add the description to sensors... but picking it up from the source\n",
    "sensors = connection.fetch('sensor', 400)\n",
    "df = pd.DataFrame(sensors['content'])\n",
    "df[\"description\"] = \"\"\n",
    "#display(HTML(df.to_html()))\n",
    "\n",
    "# Add the description into the row\n",
    "for index, sensor in df.iterrows():\n",
    "    if 'description' in sensor['source']:\n",
    "        sensor['description'] = sensor['source']['description']\n",
    "\n",
    "# Skip a bunch of data\n",
    "df1 = df[['littera', 'id', 'description', 'deviceMeasurementUnit', 'deviceQuantityKind', 'source']]\n",
    "\n",
    "df1.head()\n",
    "#display(HTML(df1.to_html()))\n",
    "\n"
   ]
  },
  {
   "cell_type": "code",
   "execution_count": null,
   "metadata": {},
   "outputs": [],
   "source": [
    "\n",
    "print(1)\n"
   ]
  },
  {
   "cell_type": "code",
   "execution_count": null,
   "metadata": {},
   "outputs": [],
   "source": []
  },
  {
   "cell_type": "code",
   "execution_count": null,
   "metadata": {},
   "outputs": [],
   "source": [
    "connection.plot_tag('VP2_EP14_PV1')"
   ]
  },
  {
   "cell_type": "code",
   "execution_count": null,
   "metadata": {},
   "outputs": [],
   "source": [
    "connection.plot_tag('VP2_EP14_PV2')"
   ]
  },
  {
   "cell_type": "code",
   "execution_count": null,
   "metadata": {},
   "outputs": [],
   "source": [
    "import matplotlib.pyplot as plt\n",
    "import matplotlib.dates as mdates\n",
    "# Pick a few sensors from the above list and plot\n",
    "# This is by index\n",
    "id = df1.iloc[7]['id']\n",
    "\n",
    "# To select rows whose column value equals a specific value (can selection of id2 be made simpler???)\n",
    "row = df.loc[df['littera'] == 'KV2_GT41_PV']\n",
    "id2 = row['id'].values[0]\n",
    "\n",
    "print(id)\n",
    "print(id2)\n",
    "\n",
    "data = connection.fetch_data(id)\n",
    "df2 = pd.DataFrame(data)\n",
    "df2.plot()\n",
    "\n",
    "# Configure the plot a bit - with ylabel and title\n",
    "plt.figure()\n",
    "data = connection.fetch_data(id2)\n",
    "df3 = pd.DataFrame(data)\n",
    "ax = df3.plot(title = row['littera'].values[0] + \"  \" + row['description'].values[0])\n",
    "ax.set_xlabel('time')\n",
    "ax.set_ylabel(row['deviceMeasurementUnit'].values[0])\n",
    "plt.legend(loc='best')\n"
   ]
  },
  {
   "cell_type": "code",
   "execution_count": null,
   "metadata": {},
   "outputs": [],
   "source": []
  },
  {
   "cell_type": "markdown",
   "metadata": {},
   "source": [
    "## SCADA - Ventilation system\n",
    "![](LB04-air.png)\n"
   ]
  },
  {
   "cell_type": "code",
   "execution_count": null,
   "metadata": {},
   "outputs": [],
   "source": []
  },
  {
   "cell_type": "code",
   "execution_count": null,
   "metadata": {},
   "outputs": [],
   "source": [
    "# Select all rows that contains LB04 and GT11 from the sensors\n",
    "lb04= df1[df1['littera'].str.contains('LB04', regex=False)]\n",
    "gt41 = lb04[lb04['littera'].str.contains('GT41', regex=False)]\n",
    "gt44 = lb04[lb04['littera'].str.contains('GT44', regex=False)]\n",
    "\n",
    "# LB04 = Air handling unit / Luft Behandling 04\n",
    "\n",
    "# Print all of it\n",
    "display(HTML(gt44.to_html()))"
   ]
  },
  {
   "cell_type": "code",
   "execution_count": null,
   "metadata": {},
   "outputs": [],
   "source": [
    "# Create your own plot function in the notebook - loads two dataseries based on \"rows\" / sensors\n",
    "def plot_large(title, row1, row2):\n",
    "    # Load data, create dataframes, and replace names of series\n",
    "    data1 = connection.fetch_data(row1['id'].values[0])\n",
    "    data2 = connection.fetch_data(row2['id'].values[0])\n",
    "    df1 = pd.DataFrame(data1)\n",
    "    df2 = pd.DataFrame(data2)\n",
    "\n",
    "    df1['observationTime'] = pd.to_datetime(df1['observationTime'], format=\"%Y-%m-%dT%H:%M:%SZ\")\n",
    "    df2['observationTime'] = pd.to_datetime(df2['observationTime'], format=\"%Y-%m-%dT%H:%M:%SZ\")\n",
    "    fig, ax = plt.subplots()\n",
    "    fig.autofmt_xdate()\n",
    "    formatter = mdates.DateFormatter(\"%Y-%m-%d %H:%M\")\n",
    "    ax.xaxis.set_major_formatter(formatter)\n",
    "    plt.plot(df1['observationTime'], df1['value'], label=row1['littera'].values[0])\n",
    "    plt.plot(df2['observationTime'], df2['value'], label=row2['littera'].values[0])\n",
    "\n",
    "    #ax = df1.plot()\n",
    "    plt.xlabel('timestamp')\n",
    "    plt.ylabel(row1['deviceMeasurementUnit'].values[0])\n",
    "    # Plot the next one in the same graph\n",
    "    #df2.plot(ax = ax, title = title)\n",
    "    plt.legend(loc='best')\n",
    "\n",
    "#connection.plot_tag('LB04_GT44_PV')\n",
    "    \n",
    "gt41_pv = df1[df1['littera'] == 'LB04_GT41_PV']\n",
    "gt44_pv = df1[df1['littera'] == 'LB04_GT44_PV']\n",
    "\n",
    "plot_large(\"Ventilationstemp\", gt41_pv, gt44_pv)\n"
   ]
  },
  {
   "cell_type": "markdown",
   "metadata": {},
   "source": [
    "## SCADA - control system image - heating system\n",
    "\n",
    "![](VP2-KB2-undercentral.png)\n",
    "\n"
   ]
  },
  {
   "cell_type": "code",
   "execution_count": null,
   "metadata": {},
   "outputs": [],
   "source": []
  },
  {
   "cell_type": "markdown",
   "metadata": {},
   "source": [
    "## SCADA - Heating system 2\n",
    "\n",
    "![](VS2-VV2-undercentral.png)\n",
    "\n"
   ]
  },
  {
   "cell_type": "code",
   "execution_count": null,
   "metadata": {},
   "outputs": [],
   "source": []
  },
  {
   "cell_type": "code",
   "execution_count": null,
   "metadata": {},
   "outputs": [],
   "source": []
  },
  {
   "cell_type": "code",
   "execution_count": null,
   "metadata": {},
   "outputs": [],
   "source": []
  }
 ],
 "metadata": {
  "kernelspec": {
   "display_name": "Python 3",
   "language": "python",
   "name": "python3"
  },
  "language_info": {
   "codemirror_mode": {
    "name": "ipython",
    "version": 3
   },
   "file_extension": ".py",
   "mimetype": "text/x-python",
   "name": "python",
   "nbconvert_exporter": "python",
   "pygments_lexer": "ipython3",
   "version": "3.8.3"
  }
 },
 "nbformat": 4,
 "nbformat_minor": 4
}
