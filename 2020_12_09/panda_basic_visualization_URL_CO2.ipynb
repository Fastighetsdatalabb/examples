{
  "nbformat": 4,
  "nbformat_minor": 0,
  "metadata": {
    "kernelspec": {
      "display_name": "Python 3",
      "language": "python",
      "name": "python3"
    },
    "language_info": {
      "codemirror_mode": {
        "name": "ipython",
        "version": 3
      },
      "file_extension": ".py",
      "mimetype": "text/x-python",
      "name": "python",
      "nbconvert_exporter": "python",
      "pygments_lexer": "ipython3",
      "version": "3.8.3"
    },
    "colab": {
      "name": "panda_basic_visualization_URL_CO2.ipynb",
      "provenance": [],
      "collapsed_sections": []
    }
  },
  "cells": [
    {
      "cell_type": "markdown",
      "metadata": {
        "id": "1hz2OvtehTdC"
      },
      "source": [
        "\n",
        "# Example of fetching data over the Internet and drawing a basic graph\n",
        "\n",
        "\n"
      ]
    },
    {
      "cell_type": "code",
      "metadata": {
        "colab": {
          "base_uri": "https://localhost:8080/"
        },
        "id": "W85tDkAGJlYx",
        "outputId": "acd2b5bd-4f1b-4b25-b3e5-248770601abe"
      },
      "source": [
        "import pandas as pd\n",
        "import matplotlib.pyplot as plt\n",
        "import matplotlib.dates as mdates\n",
        "from matplotlib.dates import DateFormatter\n",
        "\n",
        "df = pd.read_csv('https://pkgstore.datahub.io/core/co2-ppm/co2-mm-mlo_csv/data/5d0e2bc9cc70b8dd8590a31d7ab4526b/co2-mm-mlo_csv.csv', sep=',', parse_dates=['Date'])\n",
        "print(df)\n",
        "df.info()"
      ],
      "execution_count": 5,
      "outputs": [
        {
          "output_type": "stream",
          "text": [
            "          Date  Decimal Date  Average  Interpolated   Trend  Number of Days\n",
            "0   1958-03-01      1958.208   315.71        315.71  314.62              -1\n",
            "1   1958-04-01      1958.292   317.45        317.45  315.29              -1\n",
            "2   1958-05-01      1958.375   317.50        317.50  314.71              -1\n",
            "3   1958-06-01      1958.458   -99.99        317.10  314.85              -1\n",
            "4   1958-07-01      1958.542   315.86        315.86  314.98              -1\n",
            "..         ...           ...      ...           ...     ...             ...\n",
            "722 2018-05-01      2018.375   411.24        411.24  407.91              24\n",
            "723 2018-06-01      2018.458   410.79        410.79  408.49              29\n",
            "724 2018-07-01      2018.542   408.71        408.71  408.32              27\n",
            "725 2018-08-01      2018.625   406.99        406.99  408.90              30\n",
            "726 2018-09-01      2018.708   405.51        405.51  409.02              29\n",
            "\n",
            "[727 rows x 6 columns]\n",
            "<class 'pandas.core.frame.DataFrame'>\n",
            "RangeIndex: 727 entries, 0 to 726\n",
            "Data columns (total 6 columns):\n",
            " #   Column          Non-Null Count  Dtype         \n",
            "---  ------          --------------  -----         \n",
            " 0   Date            727 non-null    datetime64[ns]\n",
            " 1   Decimal Date    727 non-null    float64       \n",
            " 2   Average         727 non-null    float64       \n",
            " 3   Interpolated    727 non-null    float64       \n",
            " 4   Trend           727 non-null    float64       \n",
            " 5   Number of Days  727 non-null    int64         \n",
            "dtypes: datetime64[ns](1), float64(4), int64(1)\n",
            "memory usage: 34.2 KB\n"
          ],
          "name": "stdout"
        }
      ]
    },
    {
      "cell_type": "code",
      "metadata": {
        "id": "dFzSf1XILjOU"
      },
      "source": [
        ""
      ],
      "execution_count": null,
      "outputs": []
    },
    {
      "cell_type": "code",
      "metadata": {
        "id": "nN4UzVjSLweA",
        "colab": {
          "base_uri": "https://localhost:8080/",
          "height": 204
        },
        "outputId": "a94e1d9f-2c75-4d16-f1b0-9d31bd11c144"
      },
      "source": [
        "df.head()"
      ],
      "execution_count": 6,
      "outputs": [
        {
          "output_type": "execute_result",
          "data": {
            "text/html": [
              "<div>\n",
              "<style scoped>\n",
              "    .dataframe tbody tr th:only-of-type {\n",
              "        vertical-align: middle;\n",
              "    }\n",
              "\n",
              "    .dataframe tbody tr th {\n",
              "        vertical-align: top;\n",
              "    }\n",
              "\n",
              "    .dataframe thead th {\n",
              "        text-align: right;\n",
              "    }\n",
              "</style>\n",
              "<table border=\"1\" class=\"dataframe\">\n",
              "  <thead>\n",
              "    <tr style=\"text-align: right;\">\n",
              "      <th></th>\n",
              "      <th>Date</th>\n",
              "      <th>Decimal Date</th>\n",
              "      <th>Average</th>\n",
              "      <th>Interpolated</th>\n",
              "      <th>Trend</th>\n",
              "      <th>Number of Days</th>\n",
              "    </tr>\n",
              "  </thead>\n",
              "  <tbody>\n",
              "    <tr>\n",
              "      <th>0</th>\n",
              "      <td>1958-03-01</td>\n",
              "      <td>1958.208</td>\n",
              "      <td>315.71</td>\n",
              "      <td>315.71</td>\n",
              "      <td>314.62</td>\n",
              "      <td>-1</td>\n",
              "    </tr>\n",
              "    <tr>\n",
              "      <th>1</th>\n",
              "      <td>1958-04-01</td>\n",
              "      <td>1958.292</td>\n",
              "      <td>317.45</td>\n",
              "      <td>317.45</td>\n",
              "      <td>315.29</td>\n",
              "      <td>-1</td>\n",
              "    </tr>\n",
              "    <tr>\n",
              "      <th>2</th>\n",
              "      <td>1958-05-01</td>\n",
              "      <td>1958.375</td>\n",
              "      <td>317.50</td>\n",
              "      <td>317.50</td>\n",
              "      <td>314.71</td>\n",
              "      <td>-1</td>\n",
              "    </tr>\n",
              "    <tr>\n",
              "      <th>3</th>\n",
              "      <td>1958-06-01</td>\n",
              "      <td>1958.458</td>\n",
              "      <td>-99.99</td>\n",
              "      <td>317.10</td>\n",
              "      <td>314.85</td>\n",
              "      <td>-1</td>\n",
              "    </tr>\n",
              "    <tr>\n",
              "      <th>4</th>\n",
              "      <td>1958-07-01</td>\n",
              "      <td>1958.542</td>\n",
              "      <td>315.86</td>\n",
              "      <td>315.86</td>\n",
              "      <td>314.98</td>\n",
              "      <td>-1</td>\n",
              "    </tr>\n",
              "  </tbody>\n",
              "</table>\n",
              "</div>"
            ],
            "text/plain": [
              "        Date  Decimal Date  Average  Interpolated   Trend  Number of Days\n",
              "0 1958-03-01      1958.208   315.71        315.71  314.62              -1\n",
              "1 1958-04-01      1958.292   317.45        317.45  315.29              -1\n",
              "2 1958-05-01      1958.375   317.50        317.50  314.71              -1\n",
              "3 1958-06-01      1958.458   -99.99        317.10  314.85              -1\n",
              "4 1958-07-01      1958.542   315.86        315.86  314.98              -1"
            ]
          },
          "metadata": {
            "tags": []
          },
          "execution_count": 6
        }
      ]
    },
    {
      "cell_type": "markdown",
      "metadata": {
        "id": "1LeDVTPfJlYy"
      },
      "source": [
        "### Print the colums"
      ]
    },
    {
      "cell_type": "code",
      "metadata": {
        "id": "e2Z1iQ5aJlYy",
        "colab": {
          "base_uri": "https://localhost:8080/"
        },
        "outputId": "219b52b2-4d6a-4ae8-9682-9beec333723b"
      },
      "source": [
        "df.columns"
      ],
      "execution_count": 7,
      "outputs": [
        {
          "output_type": "execute_result",
          "data": {
            "text/plain": [
              "Index(['Date', 'Decimal Date', 'Average', 'Interpolated', 'Trend',\n",
              "       'Number of Days'],\n",
              "      dtype='object')"
            ]
          },
          "metadata": {
            "tags": []
          },
          "execution_count": 7
        }
      ]
    },
    {
      "cell_type": "markdown",
      "metadata": {
        "id": "1AeqZEd1JlYy"
      },
      "source": [
        "Here you can see all the different data series for the World CO2. Try picking one of the columns and print the values together with the timestamps:\n"
      ]
    },
    {
      "cell_type": "code",
      "metadata": {
        "id": "Kmpp2W98JlYy"
      },
      "source": [
        ""
      ],
      "execution_count": null,
      "outputs": []
    },
    {
      "cell_type": "code",
      "metadata": {
        "scrolled": false,
        "id": "ZPfgf7kwJlYy",
        "colab": {
          "base_uri": "https://localhost:8080/",
          "height": 433
        },
        "outputId": "e60a9168-17df-43c0-8eaa-2499dfc021d3"
      },
      "source": [
        "%matplotlib inline\n",
        "# Create figure and plot space\n",
        "fig, ax = plt.subplots(figsize=(12, 6))\n",
        "\n",
        "# Rotate tick marks on x-axis\n",
        "plt.setp(ax.get_xticklabels(), rotation=45)\n",
        "\n",
        "# Set title and labels for axes\n",
        "ax.set(xlabel=\"Date\",\n",
        "       ylabel=\"CO2\",\n",
        "       title=\"World CO2\")\n",
        "\n",
        "date_form = DateFormatter(\"%y-%m-%d\")\n",
        "ax.xaxis.set_major_formatter(date_form)\n",
        "ax.xaxis.set_major_locator(mdates.YearLocator(5))\n",
        "#ax.xaxis.set_major_locator(mdates.WeekdayLocator(interval=1))\n",
        "\n",
        "plt.plot(df['Date'],\n",
        "         df['Trend'],\n",
        "         color='red')\n",
        "\n",
        "plt.show()"
      ],
      "execution_count": 8,
      "outputs": [
        {
          "output_type": "display_data",
          "data": {
            "image/png": "[encoded data removed]",
            "text/plain": [
              "<Figure size 864x432 with 1 Axes>"
            ]
          },
          "metadata": {
            "tags": [],
            "needs_background": "light"
          }
        }
      ]
    },
    {
      "cell_type": "code",
      "metadata": {
        "id": "EDNeWmzFJlYy"
      },
      "source": [
        ""
      ],
      "execution_count": null,
      "outputs": []
    },
    {
      "cell_type": "code",
      "metadata": {
        "id": "fzx8hlE6JlYz"
      },
      "source": [
        ""
      ],
      "execution_count": null,
      "outputs": []
    },
    {
      "cell_type": "code",
      "metadata": {
        "id": "Ny-WT99qJlYz"
      },
      "source": [
        ""
      ],
      "execution_count": null,
      "outputs": []
    },
    {
      "cell_type": "code",
      "metadata": {
        "id": "skN6217DJlYz"
      },
      "source": [
        ""
      ],
      "execution_count": null,
      "outputs": []
    }
  ]
}